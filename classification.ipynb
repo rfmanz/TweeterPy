{
 "cells": [
  {
   "cell_type": "code",
   "execution_count": 4,
   "metadata": {},
   "outputs": [],
   "source": [
    "tweet= \"\"\"\n",
    "\n",
    "\"This is the way to unlock the next trillion high-quality tokens, currently frozen in textbook pixels that are not LLM-ready.\n",
    "\n",
    "Nougat: an open-source OCR model that accurately scans books with heavy math/scientific notations. It's ages ahead of other open OCR options. Meta is… https://t.co/BefwfxLoPA\"\n",
    "\n",
    "\n",
    "\"\"\" "
   ]
  },
  {
   "cell_type": "code",
   "execution_count": 5,
   "metadata": {},
   "outputs": [
    {
     "name": "stdout",
     "output_type": "stream",
     "text": [
      "Category: of interest\n",
      "ML-based category: ML Classified Category\n"
     ]
    }
   ],
   "source": [
    "from sklearn.naive_bayes import MultinomialNB  # Placeholder for an ML model\n",
    "import re\n",
    "\n",
    "def keyword_classifier(tweet, keyword_dict):\n",
    "    for category, keywords in keyword_dict.items():\n",
    "        if any(keyword in tweet.lower() for keyword in keywords):\n",
    "            return category\n",
    "    return \"of interest\"\n",
    "\n",
    "def ml_classifier(tweet):  # Placeholder for a real ML model\n",
    "    model = MultinomialNB()  # This should be your trained model\n",
    "    # Process and classify the tweet\n",
    "    return \"ML Classified Category\"  # Replace with the actual category\n",
    "\n",
    "def keyword_classifier(tweet, keyword_dict, priority_categories):\n",
    "    found_categories = []\n",
    "    for category, keywords in keyword_dict.items():\n",
    "        if any(keyword in tweet.lower() for keyword in keywords):\n",
    "            if category in priority_categories:\n",
    "                return category\n",
    "            found_categories.append(category)\n",
    "    return found_categories[0] if found_categories else \"of interest\"\n",
    "\n",
    "keyword_dict = {\n",
    "    \"vibes\": [\"vibe\", \"vibes\", \"vibe-check\"],\n",
    "    \"OpenAI\": [\"openai\", \"gpt\", \"gpt-4\"],\n",
    "    \"data science\": [\"data science\", \"data scientist\", \"modeling\"]\n",
    "}\n",
    "\n",
    "priority_categories = [\"data science\"]\n",
    "\n",
    "category = keyword_classifier(tweet, keyword_dict, priority_categories)\n",
    "print(f\"Category: {category}\")\n",
    "\n",
    "# Step 2: ML-based classification (only if keyword-based is not satisfactory)\n",
    "if category == \"of interest\":  # Replace with the condition under which you'd prefer ML classification\n",
    "    category = ml_classifier(tweet)\n",
    "    print(f\"ML-based category: {category}\")\n"
   ]
  }
 ],
 "metadata": {
  "kernelspec": {
   "display_name": "py3.10",
   "language": "python",
   "name": "python3"
  },
  "language_info": {
   "codemirror_mode": {
    "name": "ipython",
    "version": 3
   },
   "file_extension": ".py",
   "mimetype": "text/x-python",
   "name": "python",
   "nbconvert_exporter": "python",
   "pygments_lexer": "ipython3",
   "version": "3.10.6"
  },
  "orig_nbformat": 4
 },
 "nbformat": 4,
 "nbformat_minor": 2
}
