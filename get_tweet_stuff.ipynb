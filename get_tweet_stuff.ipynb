{
 "cells": [
  {
   "cell_type": "code",
   "execution_count": 2,
   "metadata": {},
   "outputs": [],
   "source": [
    "# !pip install tweeterpy\n",
    "# !pip install gspread_dataframe "
   ]
  },
  {
   "cell_type": "code",
   "execution_count": 3,
   "metadata": {},
   "outputs": [],
   "source": [
    "# !jupyter nbconvert --to script \"D:/Github/TweeterPy/get_tweet_stuff.ipynb\" --no-prompt"
   ]
  },
  {
   "cell_type": "code",
   "execution_count": 4,
   "metadata": {},
   "outputs": [],
   "source": [
    "from IPython.core.interactiveshell import InteractiveShell\n",
    "InteractiveShell.ast_node_interactivity = \"all\"\n",
    "from IPython.display import Markdown"
   ]
  },
  {
   "cell_type": "code",
   "execution_count": 5,
   "metadata": {},
   "outputs": [],
   "source": [
    "import json \n",
    "from datetime import datetime\n",
    "# from tweeterpy import TweeterPy\n",
    "#twitter password  =AJ#~Z+cBUR&7r/ "
   ]
  },
  {
   "cell_type": "code",
   "execution_count": 6,
   "metadata": {},
   "outputs": [],
   "source": [
    "from gspread_dataframe import set_with_dataframe"
   ]
  },
  {
   "cell_type": "code",
   "execution_count": 7,
   "metadata": {},
   "outputs": [],
   "source": [
    "import gspread\n",
    "\n",
    "credentials = {\n",
    "    \"installed\": {\n",
    "        \"client_id\": \"117044127800-dg6q9197854uc0g375ul2d7569d8v9mj.apps.googleusercontent.com\",\n",
    "        \"project_id\": \"docs-382418\",\n",
    "        \"auth_uri\": \"https://accounts.google.com/o/oauth2/auth\",\n",
    "        \"token_uri\": \"https://oauth2.googleapis.com/token\",\n",
    "        \"auth_provider_x509_cert_url\": \"https://www.googleapis.com/oauth2/v1/certs\",\n",
    "        \"client_secret\": \"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\",\n",
    "        \"redirect_uris\": [\"http://localhost\"],\n",
    "    }\n",
    "}"
   ]
  },
  {
   "cell_type": "code",
   "execution_count": 8,
   "metadata": {},
   "outputs": [],
   "source": [
    "# gc, authorized_user = gspread.oauth_from_dict(credentials)"
   ]
  },
  {
   "cell_type": "code",
   "execution_count": 9,
   "metadata": {},
   "outputs": [],
   "source": [
    "# twitter = TweeterPy()\n",
    "# twitter.get_liked_tweets('rngland')\n",
    "# twitter.get_friends('rngland', following=True)"
   ]
  },
  {
   "cell_type": "code",
   "execution_count": 10,
   "metadata": {},
   "outputs": [],
   "source": [
    "with open('liked_tweets.py', 'r') as file:\n",
    "    file_contents = file.read()\n",
    "my_dict = {}\n",
    "exec(file_contents, my_dict)"
   ]
  },
  {
   "cell_type": "code",
   "execution_count": 11,
   "metadata": {},
   "outputs": [],
   "source": [
    "rest_ids = []\n",
    "for i in range(len(my_dict['liked']['data'])):\n",
    "    if 'rest_id' in my_dict['liked']['data'][i]['content']['itemContent']['tweet_results']['result']:\n",
    "        rest_ids.append(my_dict['liked']['data'][i]['content']['itemContent']['tweet_results']['result']['rest_id'])\n"
   ]
  },
  {
   "cell_type": "code",
   "execution_count": 12,
   "metadata": {},
   "outputs": [],
   "source": [
    "created_at = []\n",
    "for i in range(len(my_dict['liked']['data'])):\n",
    "    if 'legacy' in my_dict['liked']['data'][i]['content']['itemContent']['tweet_results']['result']:\n",
    "        created_at.append(datetime.strptime(my_dict['liked']['data'][i]['content']['itemContent']['tweet_results']['result']['legacy']['created_at'], \"%a %b %d %H:%M:%S %z %Y\").strftime(\"%Y-%m-%d %H:%M:%S\"))"
   ]
  },
  {
   "cell_type": "code",
   "execution_count": 13,
   "metadata": {},
   "outputs": [
    {
     "data": {
      "text/plain": [
       "664"
      ]
     },
     "execution_count": 13,
     "metadata": {},
     "output_type": "execute_result"
    },
    {
     "data": {
      "text/plain": [
       "['https://pbs.twimg.com/profile_images/1604292546645172224/SL57a00s_normal.png',\n",
       " 'https://pbs.twimg.com/profile_images/1689852229736697856/aQmWl1ku_normal.jpg',\n",
       " 'https://pbs.twimg.com/profile_images/1592599455895031808/VM5FWW47_normal.jpg']"
      ]
     },
     "execution_count": 13,
     "metadata": {},
     "output_type": "execute_result"
    }
   ],
   "source": [
    "profile_images = []\n",
    "for i in range(len(my_dict['liked']['data'])):\n",
    "    if 'core' in my_dict['liked']['data'][i]['content']['itemContent']['tweet_results']['result']:\n",
    "        profile_images.append(my_dict['liked']['data'][i]['content']['itemContent']['tweet_results']['result']['core']['user_results']['result']['legacy']['profile_image_url_https'])\n",
    "        \n",
    "len(profile_images)\n",
    "profile_images[0:3]\n"
   ]
  },
  {
   "cell_type": "code",
   "execution_count": 14,
   "metadata": {},
   "outputs": [
    {
     "data": {
      "text/plain": [
       "['=IMAGE(\"https://pbs.twimg.com/profile_images/1604292546645172224/SL57a00s_normal.png\",4 ,45, 45)',\n",
       " '=IMAGE(\"https://pbs.twimg.com/profile_images/1689852229736697856/aQmWl1ku_normal.jpg\",4 ,45, 45)',\n",
       " '=IMAGE(\"https://pbs.twimg.com/profile_images/1592599455895031808/VM5FWW47_normal.jpg\",4 ,45, 45)']"
      ]
     },
     "execution_count": 14,
     "metadata": {},
     "output_type": "execute_result"
    }
   ],
   "source": [
    "p_img = [\"=IMAGE(\\\"\" + profile_images[i] + \"\\\"\" + ',4 ,45, 45)'  for i in range(len(profile_images))]\n",
    "\n",
    "p_img = [image.replace(\"'\", \"\") for image in p_img]\n",
    "\n",
    "p_img[0:3]"
   ]
  },
  {
   "cell_type": "code",
   "execution_count": 15,
   "metadata": {},
   "outputs": [],
   "source": [
    "screen_names = []\n",
    "for i in range(len(my_dict['liked']['data'])):\n",
    "    if 'core' in my_dict['liked']['data'][i]['content']['itemContent']['tweet_results']['result']:\n",
    "        screen_names.append(my_dict['liked']['data'][i]['content']['itemContent']['tweet_results']['result']['core']['user_results']['result']['legacy']['screen_name'])"
   ]
  },
  {
   "cell_type": "code",
   "execution_count": 16,
   "metadata": {},
   "outputs": [],
   "source": [
    "name = []\n",
    "for i in range(len(my_dict['liked']['data'])):\n",
    "    if 'core' in my_dict['liked']['data'][i]['content']['itemContent']['tweet_results']['result']:\n",
    "        name.append(my_dict['liked']['data'][i]['content']['itemContent']['tweet_results']['result']['core']['user_results']['result']['legacy']['name'])\n",
    "# name       "
   ]
  },
  {
   "cell_type": "code",
   "execution_count": 17,
   "metadata": {},
   "outputs": [],
   "source": [
    "profile_url =['https://twitter.com/' + i for i in screen_names]"
   ]
  },
  {
   "cell_type": "code",
   "execution_count": 18,
   "metadata": {},
   "outputs": [],
   "source": [
    "full_text = []\n",
    "for i in range(len(my_dict['liked']['data'])):\n",
    "    if 'legacy' in my_dict['liked']['data'][i]['content']['itemContent']['tweet_results']['result']:\n",
    "        full_text.append(my_dict['liked']['data'][i]['content']['itemContent']['tweet_results']['result']['legacy']['full_text'])           "
   ]
  },
  {
   "cell_type": "code",
   "execution_count": 19,
   "metadata": {},
   "outputs": [],
   "source": [
    "tweet_url =['https://twitter.com/' + screen_names[i] + '/status/' + rest_ids[i] for i in range(len(\n",
    "screen_names))]"
   ]
  },
  {
   "cell_type": "code",
   "execution_count": 20,
   "metadata": {},
   "outputs": [],
   "source": [
    "result = []\n",
    "\n",
    "for i in range(len(my_dict['liked']['data'])): \n",
    "    if 'legacy' in my_dict['liked']['data'][i]['content']['itemContent']['tweet_results']['result'] and \\\n",
    "    len(my_dict['liked']['data'][i]['content']['itemContent']['tweet_results']['result']['legacy']['entities']['urls']) >= 1:\n",
    "        urls = my_dict['liked']['data'][i]['content']['itemContent']['tweet_results']['result']['legacy']['entities']['urls']\n",
    "        expanded_urls = [p['expanded_url'] for p in urls]\n",
    "        result.append('  '.join(expanded_urls))\n",
    "    else:\n",
    "        result.append((' '))\n",
    "\n",
    "\n",
    "if len(rest_ids) != len(result): \n",
    "    while len(result) > len(rest_ids) and result[-1] == ' ': \n",
    "        _ = result.pop()"
   ]
  },
  {
   "cell_type": "code",
   "execution_count": 21,
   "metadata": {},
   "outputs": [],
   "source": [
    "binding_values = []\n",
    "\n",
    "for i in range(len(my_dict['liked']['data'])):\n",
    "    if 'card' in my_dict['liked']['data'][i]['content']['itemContent']['tweet_results']['result']:\n",
    "        binding_values.append(my_dict['liked']['data'][i]['content']['itemContent']['tweet_results']['result']['card']['legacy']['binding_values'])   "
   ]
  },
  {
   "cell_type": "code",
   "execution_count": 22,
   "metadata": {},
   "outputs": [],
   "source": [
    "card_title = [p['value']['string_value'] for i in binding_values for p in i if p['key'] == 'title']\n",
    "\n",
    "card_description = [p['value']['string_value'] for i in binding_values for p in i if p['key'] == 'description']\n",
    "\n",
    "card_thumbnail_image= [p['value']['image_value']['url'] for i in binding_values for p in i if p['key'] == 'thumbnail_image']\n",
    "\n",
    "card_photo_image_full_size_alt_text = [p['value']['string_value'] for i in binding_values for p in i if p['key'] == 'photo_image_full_size_alt_text']"
   ]
  },
  {
   "cell_type": "code",
   "execution_count": 30,
   "metadata": {},
   "outputs": [
    {
     "data": {
      "text/plain": [
       "['rest_ids',\n",
       " 'created_at',\n",
       " 'profile_url',\n",
       " 'p_img',\n",
       " 'screen_names',\n",
       " 'full_text',\n",
       " 'tweet_url',\n",
       " 'result',\n",
       " 'name',\n",
       " 'card_title',\n",
       " 'card_description',\n",
       " 'card_thumbnail_image',\n",
       " 'card_photo_image_full_size_alt_text']"
      ]
     },
     "execution_count": 30,
     "metadata": {},
     "output_type": "execute_result"
    }
   ],
   "source": [
    "[i for i in field_names]"
   ]
  },
  {
   "cell_type": "code",
   "execution_count": 64,
   "metadata": {},
   "outputs": [],
   "source": [
    "field_names = [\n",
    "\"rest_ids\",\n",
    "\"created_at\",\n",
    "\"profile_url\",\n",
    "\"p_img\",\n",
    "\"screen_names\",\n",
    "\"full_text\",\n",
    "\"tweet_url\",\n",
    "\"result\",\n",
    "\"name\",\n",
    "# \"card_title\",\n",
    "# \"card_description\",\n",
    "# \"card_thumbnail_image\",\n",
    "# \"card_photo_image_full_size_alt_text\"\n",
    "]\n",
    "\n",
    "\n",
    "data_dict = {field: eval(field) for field in field_names}"
   ]
  },
  {
   "cell_type": "code",
   "execution_count": 59,
   "metadata": {},
   "outputs": [
    {
     "data": {
      "text/plain": [
       "664"
      ]
     },
     "execution_count": 59,
     "metadata": {},
     "output_type": "execute_result"
    },
    {
     "data": {
      "text/plain": [
       "664"
      ]
     },
     "execution_count": 59,
     "metadata": {},
     "output_type": "execute_result"
    },
    {
     "data": {
      "text/plain": [
       "664"
      ]
     },
     "execution_count": 59,
     "metadata": {},
     "output_type": "execute_result"
    },
    {
     "data": {
      "text/plain": [
       "664"
      ]
     },
     "execution_count": 59,
     "metadata": {},
     "output_type": "execute_result"
    },
    {
     "data": {
      "text/plain": [
       "664"
      ]
     },
     "execution_count": 59,
     "metadata": {},
     "output_type": "execute_result"
    },
    {
     "data": {
      "text/plain": [
       "664"
      ]
     },
     "execution_count": 59,
     "metadata": {},
     "output_type": "execute_result"
    },
    {
     "data": {
      "text/plain": [
       "664"
      ]
     },
     "execution_count": 59,
     "metadata": {},
     "output_type": "execute_result"
    },
    {
     "data": {
      "text/plain": [
       "664"
      ]
     },
     "execution_count": 59,
     "metadata": {},
     "output_type": "execute_result"
    },
    {
     "data": {
      "text/plain": [
       "664"
      ]
     },
     "execution_count": 59,
     "metadata": {},
     "output_type": "execute_result"
    },
    {
     "data": {
      "text/plain": [
       "124"
      ]
     },
     "execution_count": 59,
     "metadata": {},
     "output_type": "execute_result"
    },
    {
     "data": {
      "text/plain": [
       "119"
      ]
     },
     "execution_count": 59,
     "metadata": {},
     "output_type": "execute_result"
    },
    {
     "data": {
      "text/plain": [
       "91"
      ]
     },
     "execution_count": 59,
     "metadata": {},
     "output_type": "execute_result"
    },
    {
     "data": {
      "text/plain": [
       "36"
      ]
     },
     "execution_count": 59,
     "metadata": {},
     "output_type": "execute_result"
    }
   ],
   "source": [
    "\n",
    "len(rest_ids)\n",
    "len(created_at)\n",
    "len(profile_url)\n",
    "len(p_img)\n",
    "len(screen_names)\n",
    "len(full_text)\n",
    "len(tweet_url)\n",
    "len(result)\n",
    "len(name)\n",
    "len(card_title)\n",
    "len(card_description)\n",
    "len(card_thumbnail_image)\n",
    "len(card_photo_image_full_size_alt_text)\n"
   ]
  },
  {
   "cell_type": "code",
   "execution_count": 66,
   "metadata": {},
   "outputs": [
    {
     "data": {
      "text/html": [
       "<div>\n",
       "<style scoped>\n",
       "    .dataframe tbody tr th:only-of-type {\n",
       "        vertical-align: middle;\n",
       "    }\n",
       "\n",
       "    .dataframe tbody tr th {\n",
       "        vertical-align: top;\n",
       "    }\n",
       "\n",
       "    .dataframe thead th {\n",
       "        text-align: right;\n",
       "    }\n",
       "</style>\n",
       "<table border=\"1\" class=\"dataframe\">\n",
       "  <thead>\n",
       "    <tr style=\"text-align: right;\">\n",
       "      <th></th>\n",
       "      <th>rest_ids</th>\n",
       "      <th>created_at</th>\n",
       "      <th>profile_url</th>\n",
       "      <th>p_img</th>\n",
       "      <th>screen_names</th>\n",
       "      <th>full_text</th>\n",
       "      <th>tweet_url</th>\n",
       "      <th>result</th>\n",
       "      <th>name</th>\n",
       "    </tr>\n",
       "  </thead>\n",
       "  <tbody>\n",
       "    <tr>\n",
       "      <th>0</th>\n",
       "      <td>1705155679819084179</td>\n",
       "      <td>2023-09-22 09:42:48</td>\n",
       "      <td>https://twitter.com/tdinh_me</td>\n",
       "      <td>=IMAGE(\"https://pbs.twimg.com/profile_images/1...</td>\n",
       "      <td>tdinh_me</td>\n",
       "      <td>My full story: \\n\\nhttps://t.co/SXBdF7Th2B</td>\n",
       "      <td>https://twitter.com/tdinh_me/status/1705155679...</td>\n",
       "      <td>https://news.tonydinh.com/p/my-solopreneur-sto...</td>\n",
       "      <td>Tony Dinh 🎯</td>\n",
       "    </tr>\n",
       "    <tr>\n",
       "      <th>1</th>\n",
       "      <td>1700004016506216614</td>\n",
       "      <td>2023-09-08 04:31:56</td>\n",
       "      <td>https://twitter.com/theJordanNoone</td>\n",
       "      <td>=IMAGE(\"https://pbs.twimg.com/profile_images/1...</td>\n",
       "      <td>theJordanNoone</td>\n",
       "      <td>@ryxcommar meanwhile the best coders write the...</td>\n",
       "      <td>https://twitter.com/theJordanNoone/status/1700...</td>\n",
       "      <td>https://python-pptx.readthedocs.io/en/latest/</td>\n",
       "      <td>Jordan Noone 🇺🇸</td>\n",
       "    </tr>\n",
       "    <tr>\n",
       "      <th>2</th>\n",
       "      <td>1704989552459579398</td>\n",
       "      <td>2023-09-21 22:42:41</td>\n",
       "      <td>https://twitter.com/mayfer</td>\n",
       "      <td>=IMAGE(\"https://pbs.twimg.com/profile_images/1...</td>\n",
       "      <td>mayfer</td>\n",
       "      <td>scammers salivating harder by the hour</td>\n",
       "      <td>https://twitter.com/mayfer/status/170498955245...</td>\n",
       "      <td></td>\n",
       "      <td>murat 🍥</td>\n",
       "    </tr>\n",
       "    <tr>\n",
       "      <th>3</th>\n",
       "      <td>1704698971996803138</td>\n",
       "      <td>2023-09-21 03:28:01</td>\n",
       "      <td>https://twitter.com/cto_junior</td>\n",
       "      <td>=IMAGE(\"https://pbs.twimg.com/profile_images/1...</td>\n",
       "      <td>cto_junior</td>\n",
       "      <td>@up_61347132 @sog_on_bird_app @deepfates https...</td>\n",
       "      <td>https://twitter.com/cto_junior/status/17046989...</td>\n",
       "      <td>https://github.com/deepfates/memery</td>\n",
       "      <td>TDM (e/flλ)</td>\n",
       "    </tr>\n",
       "    <tr>\n",
       "      <th>4</th>\n",
       "      <td>1704191384435990713</td>\n",
       "      <td>2023-09-19 17:51:03</td>\n",
       "      <td>https://twitter.com/gdb</td>\n",
       "      <td>=IMAGE(\"https://pbs.twimg.com/profile_images/1...</td>\n",
       "      <td>gdb</td>\n",
       "      <td>Get paid to red team our models, using your do...</td>\n",
       "      <td>https://twitter.com/gdb/status/170419138443599...</td>\n",
       "      <td>https://openai.com/blog/red-teaming-network</td>\n",
       "      <td>Greg Brockman</td>\n",
       "    </tr>\n",
       "    <tr>\n",
       "      <th>...</th>\n",
       "      <td>...</td>\n",
       "      <td>...</td>\n",
       "      <td>...</td>\n",
       "      <td>...</td>\n",
       "      <td>...</td>\n",
       "      <td>...</td>\n",
       "      <td>...</td>\n",
       "      <td>...</td>\n",
       "      <td>...</td>\n",
       "    </tr>\n",
       "    <tr>\n",
       "      <th>659</th>\n",
       "      <td>1587867700231081987</td>\n",
       "      <td>2022-11-02 18:02:15</td>\n",
       "      <td>https://twitter.com/NoahTopper</td>\n",
       "      <td>=IMAGE(\"https://pbs.twimg.com/profile_images/1...</td>\n",
       "      <td>NoahTopper</td>\n",
       "      <td>I’m reading “What Computers Still Can’t Do” an...</td>\n",
       "      <td>https://twitter.com/NoahTopper/status/15878677...</td>\n",
       "      <td>https://youtu.be/5Ldn_nCPNNQ</td>\n",
       "      <td>Noah Topper 🔍 (in Seattle 5/6 - 9/29)</td>\n",
       "    </tr>\n",
       "    <tr>\n",
       "      <th>660</th>\n",
       "      <td>1584659361632161792</td>\n",
       "      <td>2022-10-24 21:33:28</td>\n",
       "      <td>https://twitter.com/radshaan</td>\n",
       "      <td>=IMAGE(\"https://pbs.twimg.com/profile_images/1...</td>\n",
       "      <td>radshaan</td>\n",
       "      <td>Every single talented engineer (electrical/sof...</td>\n",
       "      <td>https://twitter.com/radshaan/status/1584659361...</td>\n",
       "      <td></td>\n",
       "      <td>Ishan</td>\n",
       "    </tr>\n",
       "    <tr>\n",
       "      <th>661</th>\n",
       "      <td>1552124372231458817</td>\n",
       "      <td>2022-07-27 02:51:02</td>\n",
       "      <td>https://twitter.com/BenHanowell</td>\n",
       "      <td>=IMAGE(\"https://pbs.twimg.com/profile_images/1...</td>\n",
       "      <td>BenHanowell</td>\n",
       "      <td>@PhDemetri @baursafi It’s most popular data ma...</td>\n",
       "      <td>https://twitter.com/BenHanowell/status/1552124...</td>\n",
       "      <td>https://capitalone.wd1.myworkdayjobs.com/Capit...</td>\n",
       "      <td>Ben Hanowell 🦜☕</td>\n",
       "    </tr>\n",
       "    <tr>\n",
       "      <th>662</th>\n",
       "      <td>1499838567111143431</td>\n",
       "      <td>2022-03-04 20:05:54</td>\n",
       "      <td>https://twitter.com/tyba_latam</td>\n",
       "      <td>=IMAGE(\"https://pbs.twimg.com/profile_images/1...</td>\n",
       "      <td>tyba_latam</td>\n",
       "      <td>¡Invierte tu dinero, no juegues con él! tyba, ...</td>\n",
       "      <td>https://twitter.com/tyba_latam/status/14998385...</td>\n",
       "      <td>https://plottable.readthedocs.io/en/latest/  h...</td>\n",
       "      <td>tyba</td>\n",
       "    </tr>\n",
       "    <tr>\n",
       "      <th>663</th>\n",
       "      <td>1438120202038829063</td>\n",
       "      <td>2021-09-15 12:39:09</td>\n",
       "      <td>https://twitter.com/waitbutwhy</td>\n",
       "      <td>=IMAGE(\"https://pbs.twimg.com/profile_images/3...</td>\n",
       "      <td>waitbutwhy</td>\n",
       "      <td>It's crazy that with an iPhone, a little Starl...</td>\n",
       "      <td>https://twitter.com/waitbutwhy/status/14381202...</td>\n",
       "      <td></td>\n",
       "      <td>Tim Urban</td>\n",
       "    </tr>\n",
       "  </tbody>\n",
       "</table>\n",
       "<p>664 rows × 9 columns</p>\n",
       "</div>"
      ],
      "text/plain": [
       "                rest_ids           created_at  \\\n",
       "0    1705155679819084179  2023-09-22 09:42:48   \n",
       "1    1700004016506216614  2023-09-08 04:31:56   \n",
       "2    1704989552459579398  2023-09-21 22:42:41   \n",
       "3    1704698971996803138  2023-09-21 03:28:01   \n",
       "4    1704191384435990713  2023-09-19 17:51:03   \n",
       "..                   ...                  ...   \n",
       "659  1587867700231081987  2022-11-02 18:02:15   \n",
       "660  1584659361632161792  2022-10-24 21:33:28   \n",
       "661  1552124372231458817  2022-07-27 02:51:02   \n",
       "662  1499838567111143431  2022-03-04 20:05:54   \n",
       "663  1438120202038829063  2021-09-15 12:39:09   \n",
       "\n",
       "                            profile_url  \\\n",
       "0          https://twitter.com/tdinh_me   \n",
       "1    https://twitter.com/theJordanNoone   \n",
       "2            https://twitter.com/mayfer   \n",
       "3        https://twitter.com/cto_junior   \n",
       "4               https://twitter.com/gdb   \n",
       "..                                  ...   \n",
       "659      https://twitter.com/NoahTopper   \n",
       "660        https://twitter.com/radshaan   \n",
       "661     https://twitter.com/BenHanowell   \n",
       "662      https://twitter.com/tyba_latam   \n",
       "663      https://twitter.com/waitbutwhy   \n",
       "\n",
       "                                                 p_img    screen_names  \\\n",
       "0    =IMAGE(\"https://pbs.twimg.com/profile_images/1...        tdinh_me   \n",
       "1    =IMAGE(\"https://pbs.twimg.com/profile_images/1...  theJordanNoone   \n",
       "2    =IMAGE(\"https://pbs.twimg.com/profile_images/1...          mayfer   \n",
       "3    =IMAGE(\"https://pbs.twimg.com/profile_images/1...      cto_junior   \n",
       "4    =IMAGE(\"https://pbs.twimg.com/profile_images/1...             gdb   \n",
       "..                                                 ...             ...   \n",
       "659  =IMAGE(\"https://pbs.twimg.com/profile_images/1...      NoahTopper   \n",
       "660  =IMAGE(\"https://pbs.twimg.com/profile_images/1...        radshaan   \n",
       "661  =IMAGE(\"https://pbs.twimg.com/profile_images/1...     BenHanowell   \n",
       "662  =IMAGE(\"https://pbs.twimg.com/profile_images/1...      tyba_latam   \n",
       "663  =IMAGE(\"https://pbs.twimg.com/profile_images/3...      waitbutwhy   \n",
       "\n",
       "                                             full_text  \\\n",
       "0           My full story: \\n\\nhttps://t.co/SXBdF7Th2B   \n",
       "1    @ryxcommar meanwhile the best coders write the...   \n",
       "2               scammers salivating harder by the hour   \n",
       "3    @up_61347132 @sog_on_bird_app @deepfates https...   \n",
       "4    Get paid to red team our models, using your do...   \n",
       "..                                                 ...   \n",
       "659  I’m reading “What Computers Still Can’t Do” an...   \n",
       "660  Every single talented engineer (electrical/sof...   \n",
       "661  @PhDemetri @baursafi It’s most popular data ma...   \n",
       "662  ¡Invierte tu dinero, no juegues con él! tyba, ...   \n",
       "663  It's crazy that with an iPhone, a little Starl...   \n",
       "\n",
       "                                             tweet_url  \\\n",
       "0    https://twitter.com/tdinh_me/status/1705155679...   \n",
       "1    https://twitter.com/theJordanNoone/status/1700...   \n",
       "2    https://twitter.com/mayfer/status/170498955245...   \n",
       "3    https://twitter.com/cto_junior/status/17046989...   \n",
       "4    https://twitter.com/gdb/status/170419138443599...   \n",
       "..                                                 ...   \n",
       "659  https://twitter.com/NoahTopper/status/15878677...   \n",
       "660  https://twitter.com/radshaan/status/1584659361...   \n",
       "661  https://twitter.com/BenHanowell/status/1552124...   \n",
       "662  https://twitter.com/tyba_latam/status/14998385...   \n",
       "663  https://twitter.com/waitbutwhy/status/14381202...   \n",
       "\n",
       "                                                result  \\\n",
       "0    https://news.tonydinh.com/p/my-solopreneur-sto...   \n",
       "1        https://python-pptx.readthedocs.io/en/latest/   \n",
       "2                                                        \n",
       "3                  https://github.com/deepfates/memery   \n",
       "4          https://openai.com/blog/red-teaming-network   \n",
       "..                                                 ...   \n",
       "659                       https://youtu.be/5Ldn_nCPNNQ   \n",
       "660                                                      \n",
       "661  https://capitalone.wd1.myworkdayjobs.com/Capit...   \n",
       "662  https://plottable.readthedocs.io/en/latest/  h...   \n",
       "663                                                      \n",
       "\n",
       "                                      name  \n",
       "0                              Tony Dinh 🎯  \n",
       "1                          Jordan Noone 🇺🇸  \n",
       "2                                  murat 🍥  \n",
       "3                              TDM (e/flλ)  \n",
       "4                            Greg Brockman  \n",
       "..                                     ...  \n",
       "659  Noah Topper 🔍 (in Seattle 5/6 - 9/29)  \n",
       "660                                  Ishan  \n",
       "661                        Ben Hanowell 🦜☕  \n",
       "662                                   tyba  \n",
       "663                              Tim Urban  \n",
       "\n",
       "[664 rows x 9 columns]"
      ]
     },
     "execution_count": 66,
     "metadata": {},
     "output_type": "execute_result"
    }
   ],
   "source": [
    "import pandas as pd\n",
    "\n",
    "df = pd.DataFrame(data_dict)\n",
    "df\n",
    "# df.to_csv('D:/Github/TweeterPy/liked_tweets.csv')"
   ]
  },
  {
   "cell_type": "code",
   "execution_count": null,
   "metadata": {},
   "outputs": [],
   "source": [
    "sh = gc.open(\"liked_tweets\")\n",
    "worksheet  = sh.get_worksheet(0)    "
   ]
  },
  {
   "cell_type": "code",
   "execution_count": 293,
   "metadata": {},
   "outputs": [],
   "source": [
    "worksheet.format(f\"g2:g{len(rest_ids)}\", {\n",
    "  \"textFormat\": {\n",
    "    \"fontSize\": 14\n",
    "   }\n",
    "})\n",
    "set_with_dataframe(worksheet, df) "
   ]
  },
  {
   "cell_type": "code",
   "execution_count": 22,
   "metadata": {},
   "outputs": [],
   "source": []
  },
  {
   "cell_type": "code",
   "execution_count": null,
   "metadata": {},
   "outputs": [],
   "source": []
  },
  {
   "cell_type": "code",
   "execution_count": null,
   "metadata": {},
   "outputs": [
    {
     "name": "stdout",
     "output_type": "stream",
     "text": [
      "I want to share my non-rigorous vibes based approach towards data science modeling of data. A lot of my job as a staff data scientist (i'm staff btw) is doing a vibe-check on technical problems, and helping other data scientists from going down an intractable path.\n",
      "Indie hacker.\n",
      "\n",
      "🧠 @TypingMindApp $30K/mo\n",
      "📸 @XnapperHQ $6K/mo\n",
      "🛠 @devutils_app $5.5K/mo\n",
      "🪄 @blackmagic_so (Sold, was $14K/mo)\n",
      "\n",
      "💬 https://t.co/9b1SSybSdG\n"
     ]
    },
    {
     "data": {
      "text/plain": [
       "'Today is exactly 2 years since I quit my job and become a full-time indie hacker.'"
      ]
     },
     "execution_count": 38,
     "metadata": {},
     "output_type": "execute_result"
    }
   ],
   "source": [
    "print(my_dict['liked']['data'][8]['content']['itemContent']['tweet_results']['result']['legacy']['full_text'])\n",
    "\n",
    "urls = my_dict['liked']['data'][3]['content']['itemContent']['tweet_results']['result']['legacy']['entities']['urls']\n",
    "\n",
    "for i in urls:\n",
    "    i['expanded_url']\n",
    "\n",
    "# [i for i in urls['expanded_url']]\n",
    "\n",
    "screen_name = my_dict['liked']['data'][0]['content']['itemContent']['tweet_results']['result']['core']['user_results']['result']['legacy']['screen_name']\n",
    "\n",
    "rest_id = my_dict['liked']['data'][0]['content']['itemContent']['tweet_results']['result']['rest_id']\n",
    "\n",
    "'https://twitter.com/' + screen_name + '/status/' + rest_id\n",
    "\n",
    "screen_name\n",
    "rest_id\n",
    "\n",
    "print(my_dict['liked']['data'][0]['content']['itemContent']['tweet_results']['result']['core']['user_results']['result']['legacy']['description'])\n",
    "\n",
    "\n",
    "my_dict['liked']['data'][0]['content']['itemContent']['tweet_results']['result']['legacy']['created_at']\n",
    "\n",
    "#  'in_reply_to_screen_name': 'ryxcommar',\n",
    "# 'in_reply_to_status_id_str': '1700002950012145747',\n",
    "\n",
    "# my_dict['liked']['data'][0]['content']['itemContent']['tweet_results']['result']['core']['user_results']['result']['is_blue_verified']\n",
    "\n",
    "my_dict['liked']['data'][3]['content']['itemContent']['tweet_results']['result']['core']['user_results']['result']['legacy']['profile_image_url_https']\n",
    "\n",
    "\n",
    "my_dict['liked']['data'][0]['content']['itemContent']['tweet_results']['result']['card']['legacy']['binding_values'][2]['value']['string_value']\n",
    "\n",
    "\n",
    "\n",
    "# my_dict['liked']['data'][0]['content']['itemContent']['tweet_results']['result']['card']['legacy']['binding_values']\n",
    "\n",
    "# my_dict['liked']['data'][3]['content']['itemContent']['tweet_results']['result']['card']['legacy']['binding_values'][4]\n",
    "# my_dict['liked']['data'][3]['content']['itemContent']['tweet_results']['result']['card']['legacy']['binding_values'][0]['value']['string_value']\n",
    "\n",
    "\n",
    "# card  \n",
    "    #   {'key': 'title',\n",
    "    #        'value': {'string_value': 'My solopreneur story: zero to $45K/mo in 2 years',\n",
    "    #   {'key': 'description',\n",
    "    #        'value': {'string_value': 'Today is exactly 2 years since I quit my job and become a full-time indie hacker.',\n",
    "        #   {'key': 'photo_image_full_size_alt_text',\n",
    "        #    'value': {'string_value': 'Search over large image datasets with natural language and computer vision! - GitHub - deepfates/memery: Search over large image datasets with natural language and computer vision!',\n",
    "        #      {'key': 'thumbnail_image',\n",
    "        #    'value': {'image_value': {'height': 200,\n",
    "        #      'width': 400,\n",
    "        #      'url': 'https://pbs.twimg.com/card_img/1704513029398745088/aRyYEIOj?format=jpg&name=400x400'},\n",
    "        #     'type': 'IMAGE'}},\n",
    "        ##card "
   ]
  }
 ],
 "metadata": {
  "kernelspec": {
   "display_name": "Python 3",
   "language": "python",
   "name": "python3"
  },
  "language_info": {
   "codemirror_mode": {
    "name": "ipython",
    "version": 3
   },
   "file_extension": ".py",
   "mimetype": "text/x-python",
   "name": "python",
   "nbconvert_exporter": "python",
   "pygments_lexer": "ipython3",
   "version": "3.8.3"
  },
  "orig_nbformat": 4
 },
 "nbformat": 4,
 "nbformat_minor": 2
}
