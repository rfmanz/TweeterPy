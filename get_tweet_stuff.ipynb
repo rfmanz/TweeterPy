{
 "cells": [
  {
   "cell_type": "code",
   "execution_count": 1,
   "metadata": {},
   "outputs": [
    {
     "name": "stdout",
     "output_type": "stream",
     "text": [
      "Collecting tweeterpy\n",
      "  Downloading tweeterpy-1.0.7-py3-none-any.whl (22 kB)\n",
      "Requirement already satisfied: six==1.16.0 in d:\\anaconda\\envs\\py3.10\\lib\\site-packages (from tweeterpy) (1.16.0)\n",
      "Requirement already satisfied: idna==3.4 in d:\\anaconda\\envs\\py3.10\\lib\\site-packages (from tweeterpy) (3.4)\n",
      "Requirement already satisfied: lxml==4.9.2 in d:\\anaconda\\envs\\py3.10\\lib\\site-packages (from tweeterpy) (4.9.2)\n",
      "Requirement already satisfied: charset-normalizer==3.1.0 in d:\\anaconda\\envs\\py3.10\\lib\\site-packages (from tweeterpy) (3.1.0)\n",
      "Collecting certifi==2023.7.22\n",
      "  Downloading certifi-2023.7.22-py3-none-any.whl (158 kB)\n",
      "     -------------------------------------- 158.3/158.3 kB 2.4 MB/s eta 0:00:00\n",
      "Collecting urllib3==2.0.3\n",
      "  Downloading urllib3-2.0.3-py3-none-any.whl (123 kB)\n",
      "     -------------------------------------- 123.6/123.6 kB 7.1 MB/s eta 0:00:00\n",
      "Collecting requests==2.31.0\n",
      "  Downloading requests-2.31.0-py3-none-any.whl (62 kB)\n",
      "     ---------------------------------------- 62.6/62.6 kB 3.3 MB/s eta 0:00:00\n",
      "Collecting bs4==0.0.1\n",
      "  Downloading bs4-0.0.1.tar.gz (1.1 kB)\n",
      "  Preparing metadata (setup.py): started\n",
      "  Preparing metadata (setup.py): finished with status 'done'\n",
      "Collecting demjson3==3.0.6\n",
      "  Downloading demjson3-3.0.6.tar.gz (131 kB)\n",
      "     ---------------------------------------- 131.5/131.5 kB ? eta 0:00:00\n",
      "  Preparing metadata (setup.py): started\n",
      "  Preparing metadata (setup.py): finished with status 'done'\n",
      "Collecting Brotli==1.0.9\n",
      "  Downloading Brotli-1.0.9-cp310-cp310-win_amd64.whl (383 kB)\n",
      "     ------------------------------------- 383.3/383.3 kB 12.0 MB/s eta 0:00:00\n",
      "Requirement already satisfied: beautifulsoup4==4.12.2 in d:\\anaconda\\envs\\py3.10\\lib\\site-packages (from tweeterpy) (4.12.2)\n",
      "Collecting soupsieve==2.4.1\n",
      "  Downloading soupsieve-2.4.1-py3-none-any.whl (36 kB)\n",
      "Building wheels for collected packages: bs4, demjson3\n",
      "  Building wheel for bs4 (setup.py): started\n",
      "  Building wheel for bs4 (setup.py): finished with status 'done'\n",
      "  Created wheel for bs4: filename=bs4-0.0.1-py3-none-any.whl size=1264 sha256=d2732182128ce4eb307d6aa6b37469c51bc8d1fa2eed9b139e92a1836f035100\n",
      "  Stored in directory: c:\\users\\rafit\\appdata\\local\\pip\\cache\\wheels\\e4\\62\\1d\\d4d1bc4f33350ff84227f89b258edb552d604138e3739f5c83\n",
      "  Building wheel for demjson3 (setup.py): started\n",
      "  Building wheel for demjson3 (setup.py): finished with status 'done'\n",
      "  Created wheel for demjson3: filename=demjson3-3.0.6-py3-none-any.whl size=75333 sha256=9855a07f6bb315fee13006b81bfa5dde4b6fac6206ee3e3f44adeff6640b31aa\n",
      "  Stored in directory: c:\\users\\rafit\\appdata\\local\\pip\\cache\\wheels\\bf\\cc\\85\\b97e01da795a059d6e82ca0f77b3da366a51f6c645f12c5a04\n",
      "Successfully built bs4 demjson3\n",
      "Installing collected packages: demjson3, Brotli, urllib3, soupsieve, certifi, requests, bs4, tweeterpy\n",
      "  Attempting uninstall: urllib3\n",
      "    Found existing installation: urllib3 1.26.15\n",
      "    Uninstalling urllib3-1.26.15:\n",
      "      Successfully uninstalled urllib3-1.26.15\n",
      "  Attempting uninstall: soupsieve\n",
      "    Found existing installation: soupsieve 2.4\n",
      "    Uninstalling soupsieve-2.4:\n",
      "      Successfully uninstalled soupsieve-2.4\n",
      "  Attempting uninstall: certifi\n",
      "    Found existing installation: certifi 2022.12.7\n",
      "    Uninstalling certifi-2022.12.7:\n",
      "      Successfully uninstalled certifi-2022.12.7\n",
      "  Attempting uninstall: requests\n",
      "    Found existing installation: requests 2.28.2\n",
      "    Uninstalling requests-2.28.2:\n",
      "      Successfully uninstalled requests-2.28.2\n",
      "Successfully installed Brotli-1.0.9 bs4-0.0.1 certifi-2023.7.22 demjson3-3.0.6 requests-2.31.0 soupsieve-2.4.1 tweeterpy-1.0.7 urllib3-2.0.3\n"
     ]
    }
   ],
   "source": [
    "!pip install tweeterpy"
   ]
  },
  {
   "cell_type": "code",
   "execution_count": 2,
   "metadata": {},
   "outputs": [],
   "source": [
    "import json "
   ]
  },
  {
   "cell_type": "code",
   "execution_count": null,
   "metadata": {},
   "outputs": [],
   "source": [
    "#twitter password  =AJ#~Z+cBUR&7r/ "
   ]
  },
  {
   "cell_type": "code",
   "execution_count": 3,
   "metadata": {},
   "outputs": [],
   "source": [
    "from tweeterpy import TweeterPy"
   ]
  },
  {
   "cell_type": "code",
   "execution_count": 4,
   "metadata": {},
   "outputs": [
    {
     "name": "stdout",
     "output_type": "stream",
     "text": [
      "2023-09-22 19:33:29,310 [\u001b[0;32mINFO\u001b[0m] :: API Updated Successfully.\n"
     ]
    }
   ],
   "source": [
    "twitter = TweeterPy()"
   ]
  },
  {
   "cell_type": "code",
   "execution_count": null,
   "metadata": {},
   "outputs": [],
   "source": [
    "# twitter.get_liked_tweets('rngland')"
   ]
  },
  {
   "cell_type": "code",
   "execution_count": null,
   "metadata": {},
   "outputs": [],
   "source": [
    "# twitter.get_friends('rngland', following=True)"
   ]
  },
  {
   "cell_type": "code",
   "execution_count": 6,
   "metadata": {},
   "outputs": [
    {
     "name": "stdout",
     "output_type": "stream",
     "text": [
      "2023-09-22 19:35:03,129 [\u001b[0;32mINFO\u001b[0m] :: User is authenticated.\n",
      "2023-09-22 19:35:03,130 [\u001b[0;32mINFO\u001b[0m] :: User is authenticated.\n",
      "2023-09-22 19:35:03,702 [\u001b[1;31mERROR\u001b[0m] :: This request requires a matching csrf cookie and header.\n",
      "\n",
      "Traceback (most recent call last):\n",
      "  File \"d:\\Github\\TweeterPy\\tweeterpy\\request_util.py\", line 32, in make_request\n",
      "    return util.check_for_errors(response.json())\n",
      "  File \"d:\\Github\\TweeterPy\\tweeterpy\\util.py\", line 85, in check_for_errors\n",
      "    raise Exception(error_message)\n",
      "Exception: This request requires a matching csrf cookie and header.\n"
     ]
    },
    {
     "ename": "Exception",
     "evalue": "This request requires a matching csrf cookie and header.",
     "output_type": "error",
     "traceback": [
      "\u001b[1;31m---------------------------------------------------------------------------\u001b[0m",
      "\u001b[1;31mException\u001b[0m                                 Traceback (most recent call last)",
      "Cell \u001b[1;32mIn[6], line 2\u001b[0m\n\u001b[0;32m      1\u001b[0m \u001b[39mwith\u001b[39;00m \u001b[39mopen\u001b[39m(\u001b[39m\"\u001b[39m\u001b[39mme.json\u001b[39m\u001b[39m\"\u001b[39m, \u001b[39m\"\u001b[39m\u001b[39mw\u001b[39m\u001b[39m\"\u001b[39m) \u001b[39mas\u001b[39;00m a:\n\u001b[1;32m----> 2\u001b[0m     json\u001b[39m.\u001b[39mdump(twitter\u001b[39m.\u001b[39;49mget_user_info(\u001b[39m'\u001b[39;49m\u001b[39mrngland\u001b[39;49m\u001b[39m'\u001b[39;49m), a)\n",
      "File \u001b[1;32md:\\Github\\TweeterPy\\tweeterpy\\tweeterpy.py:130\u001b[0m, in \u001b[0;36mTweeterPy.login_decorator.<locals>.wrapper\u001b[1;34m(self, *args, **kwargs)\u001b[0m\n\u001b[0;32m    128\u001b[0m     logger\u001b[39m.\u001b[39mwarn(\u001b[39m'\u001b[39m\u001b[39mUser is not authenticated.\u001b[39m\u001b[39m'\u001b[39m)\n\u001b[0;32m    129\u001b[0m     \u001b[39mself\u001b[39m\u001b[39m.\u001b[39mlogin()\n\u001b[1;32m--> 130\u001b[0m \u001b[39mreturn\u001b[39;00m original_function(\u001b[39mself\u001b[39m, \u001b[39m*\u001b[39margs, \u001b[39m*\u001b[39m\u001b[39m*\u001b[39mkwargs)\n",
      "File \u001b[1;32md:\\Github\\TweeterPy\\tweeterpy\\tweeterpy.py:244\u001b[0m, in \u001b[0;36mTweeterPy.get_user_info\u001b[1;34m(self, user_id)\u001b[0m\n\u001b[0;32m    234\u001b[0m \u001b[39m@login_decorator\u001b[39m\n\u001b[0;32m    235\u001b[0m \u001b[39mdef\u001b[39;00m \u001b[39mget_user_info\u001b[39m(\u001b[39mself\u001b[39m, user_id):\n\u001b[0;32m    236\u001b[0m \u001b[39m    \u001b[39m\u001b[39m\"\"\"Extracts user details like username, userid, bio, website, follower/following count etc.\u001b[39;00m\n\u001b[0;32m    237\u001b[0m \n\u001b[0;32m    238\u001b[0m \u001b[39m    Args:\u001b[39;00m\n\u001b[1;32m   (...)\u001b[0m\n\u001b[0;32m    242\u001b[0m \u001b[39m        dict: User information.\u001b[39;00m\n\u001b[0;32m    243\u001b[0m \u001b[39m    \"\"\"\u001b[39;00m\n\u001b[1;32m--> 244\u001b[0m     user_id \u001b[39m=\u001b[39m \u001b[39mself\u001b[39;49m\u001b[39m.\u001b[39;49mget_user_id(user_id)\n\u001b[0;32m    245\u001b[0m     variables \u001b[39m=\u001b[39m {\u001b[39m\"\u001b[39m\u001b[39muserId\u001b[39m\u001b[39m\"\u001b[39m: user_id, \u001b[39m\"\u001b[39m\u001b[39mwithSafetyModeUserFields\u001b[39m\u001b[39m\"\u001b[39m: \u001b[39mTrue\u001b[39;00m}\n\u001b[0;32m    246\u001b[0m     request_payload \u001b[39m=\u001b[39m \u001b[39mself\u001b[39m\u001b[39m.\u001b[39m_generate_request_data(\n\u001b[0;32m    247\u001b[0m         Path\u001b[39m.\u001b[39mUSER_INFO_ENDPOINT, variables, user_data_features\u001b[39m=\u001b[39m\u001b[39mTrue\u001b[39;00m)\n",
      "File \u001b[1;32md:\\Github\\TweeterPy\\tweeterpy\\tweeterpy.py:231\u001b[0m, in \u001b[0;36mTweeterPy.get_user_id\u001b[1;34m(self, username)\u001b[0m\n\u001b[0;32m    228\u001b[0m     \u001b[39mreturn\u001b[39;00m \u001b[39mself\u001b[39m\u001b[39m.\u001b[39mget_user_data(username)\u001b[39m.\u001b[39mget(\u001b[39m'\u001b[39m\u001b[39mrest_id\u001b[39m\u001b[39m'\u001b[39m)\n\u001b[0;32m    229\u001b[0m request_payload \u001b[39m=\u001b[39m \u001b[39mself\u001b[39m\u001b[39m.\u001b[39m_generate_request_data(\n\u001b[0;32m    230\u001b[0m     Path\u001b[39m.\u001b[39mUSER_ID_ENDPOINT, {\u001b[39m\"\u001b[39m\u001b[39mscreen_name\u001b[39m\u001b[39m\"\u001b[39m: username})\n\u001b[1;32m--> 231\u001b[0m response \u001b[39m=\u001b[39m make_request(\u001b[39m*\u001b[39m\u001b[39m*\u001b[39mrequest_payload)\n\u001b[0;32m    232\u001b[0m \u001b[39mreturn\u001b[39;00m response[\u001b[39m'\u001b[39m\u001b[39mdata\u001b[39m\u001b[39m'\u001b[39m][\u001b[39m'\u001b[39m\u001b[39muser_result_by_screen_name\u001b[39m\u001b[39m'\u001b[39m][\u001b[39m'\u001b[39m\u001b[39mresult\u001b[39m\u001b[39m'\u001b[39m][\u001b[39m'\u001b[39m\u001b[39mrest_id\u001b[39m\u001b[39m'\u001b[39m]\n",
      "File \u001b[1;32md:\\Github\\TweeterPy\\tweeterpy\\request_util.py:46\u001b[0m, in \u001b[0;36mmake_request\u001b[1;34m(url, session, method, max_retries, timeout, skip_error_checking, **kwargs)\u001b[0m\n\u001b[0;32m     44\u001b[0m \u001b[39mif\u001b[39;00m api_limit_stats\u001b[39m.\u001b[39mget(\u001b[39m'\u001b[39m\u001b[39mrate_limit_exhausted\u001b[39m\u001b[39m'\u001b[39m):\n\u001b[0;32m     45\u001b[0m     logger\u001b[39m.\u001b[39merror(\u001b[39mf\u001b[39m\u001b[39m\"\u001b[39m\u001b[39mRate Limit Exceeded => \u001b[39m\u001b[39m{\u001b[39;00mapi_limit_stats\u001b[39m}\u001b[39;00m\u001b[39m\"\u001b[39m)\n\u001b[1;32m---> 46\u001b[0m \u001b[39mraise\u001b[39;00m error\n",
      "File \u001b[1;32md:\\Github\\TweeterPy\\tweeterpy\\request_util.py:32\u001b[0m, in \u001b[0;36mmake_request\u001b[1;34m(url, session, method, max_retries, timeout, skip_error_checking, **kwargs)\u001b[0m\n\u001b[0;32m     30\u001b[0m     \u001b[39mif\u001b[39;00m skip_error_checking:\n\u001b[0;32m     31\u001b[0m         \u001b[39mreturn\u001b[39;00m response\u001b[39m.\u001b[39mjson()\n\u001b[1;32m---> 32\u001b[0m     \u001b[39mreturn\u001b[39;00m util\u001b[39m.\u001b[39;49mcheck_for_errors(response\u001b[39m.\u001b[39;49mjson())\n\u001b[0;32m     33\u001b[0m response_text \u001b[39m=\u001b[39m \u001b[39m\"\u001b[39m\u001b[39m\\n\u001b[39;00m\u001b[39m\"\u001b[39m\u001b[39m.\u001b[39mjoin(\n\u001b[0;32m     34\u001b[0m     [line\u001b[39m.\u001b[39mstrip() \u001b[39mfor\u001b[39;00m line \u001b[39min\u001b[39;00m soup\u001b[39m.\u001b[39mtext\u001b[39m.\u001b[39msplit(\u001b[39m\"\u001b[39m\u001b[39m\\n\u001b[39;00m\u001b[39m\"\u001b[39m) \u001b[39mif\u001b[39;00m line\u001b[39m.\u001b[39mstrip()])\n\u001b[0;32m     35\u001b[0m response\u001b[39m.\u001b[39mraise_for_status()\n",
      "File \u001b[1;32md:\\Github\\TweeterPy\\tweeterpy\\util.py:85\u001b[0m, in \u001b[0;36mcheck_for_errors\u001b[1;34m(response)\u001b[0m\n\u001b[0;32m     82\u001b[0m     \u001b[39mif\u001b[39;00m \u001b[39m\"\u001b[39m\u001b[39mdata\u001b[39m\u001b[39m\"\u001b[39m \u001b[39mnot\u001b[39;00m \u001b[39min\u001b[39;00m response\u001b[39m.\u001b[39mkeys():\n\u001b[0;32m     83\u001b[0m         error_message \u001b[39m=\u001b[39m \u001b[39m\"\u001b[39m\u001b[39m\\n\u001b[39;00m\u001b[39m\"\u001b[39m\u001b[39m.\u001b[39mjoin([error[\u001b[39m'\u001b[39m\u001b[39mmessage\u001b[39m\u001b[39m'\u001b[39m]\n\u001b[0;32m     84\u001b[0m                                    \u001b[39mfor\u001b[39;00m error \u001b[39min\u001b[39;00m response[\u001b[39m'\u001b[39m\u001b[39merrors\u001b[39m\u001b[39m'\u001b[39m]])\n\u001b[1;32m---> 85\u001b[0m         \u001b[39mraise\u001b[39;00m \u001b[39mException\u001b[39;00m(error_message)\n\u001b[0;32m     86\u001b[0m \u001b[39mif\u001b[39;00m \u001b[39m\"\u001b[39m\u001b[39mdata\u001b[39m\u001b[39m\"\u001b[39m \u001b[39min\u001b[39;00m response\u001b[39m.\u001b[39mkeys():\n\u001b[0;32m     87\u001b[0m     \u001b[39mif\u001b[39;00m \u001b[39mnot\u001b[39;00m response\u001b[39m.\u001b[39mget(\u001b[39m\"\u001b[39m\u001b[39mdata\u001b[39m\u001b[39m\"\u001b[39m):\n",
      "\u001b[1;31mException\u001b[0m: This request requires a matching csrf cookie and header."
     ]
    }
   ],
   "source": [
    "# with open(\"me.json\", \"w\") as a:\n",
    "#     json.dump(twitter.get_user_info('rngland'), a)"
   ]
  }
 ],
 "metadata": {
  "kernelspec": {
   "display_name": "Python 3",
   "language": "python",
   "name": "python3"
  },
  "language_info": {
   "codemirror_mode": {
    "name": "ipython",
    "version": 3
   },
   "file_extension": ".py",
   "mimetype": "text/x-python",
   "name": "python",
   "nbconvert_exporter": "python",
   "pygments_lexer": "ipython3",
   "version": "3.10.6"
  },
  "orig_nbformat": 4
 },
 "nbformat": 4,
 "nbformat_minor": 2
}
